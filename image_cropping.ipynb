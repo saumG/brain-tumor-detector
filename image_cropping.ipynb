{
 "cells": [
  {
   "cell_type": "code",
   "execution_count": 4,
   "metadata": {},
   "outputs": [],
   "source": [
    "import numpy as np\n",
    "from tqdm import tqdm\n",
    "import cv2\n",
    "import os \n",
    "import imutils"
   ]
  },
  {
   "cell_type": "code",
   "execution_count": 6,
   "metadata": {},
   "outputs": [],
   "source": [
    "def crop_image_based_on_extreme_points(input_img):\n",
    "    # Convert the input image to grayscale and apply Gaussian blur for noise reduction\n",
    "    gray_img = cv2.cvtColor(input_img, cv2.COLOR_RGB2GRAY)\n",
    "    blurred_gray_img = cv2.GaussianBlur(gray_img, (3, 3), 0)\n",
    "\n",
    "    # Threshold the blurred image to create a binary image, then perform erosion and dilation to remove noise\n",
    "    binary_img = cv2.threshold(blurred_gray_img, 45, 255, cv2.THRESH_BINARY)[1]\n",
    "    binary_img = cv2.erode(binary_img, None, iterations=2)\n",
    "    binary_img = cv2.dilate(binary_img, None, iterations=2)\n",
    "\n",
    "    # Find contours in the binary image and obtain the largest contour\n",
    "    contours = cv2.findContours(binary_img.copy(), cv2.RETR_EXTERNAL, cv2.CHAIN_APPROX_SIMPLE)\n",
    "    contours = imutils.grab_contours(contours)\n",
    "    largest_contour = max(contours, key=cv2.contourArea)\n",
    "\n",
    "    # Find the extreme points of the largest contour\n",
    "    leftmost_point = tuple(largest_contour[largest_contour[:, :, 0].argmin()][0])\n",
    "    rightmost_point = tuple(largest_contour[largest_contour[:, :, 0].argmax()][0])\n",
    "    topmost_point = tuple(largest_contour[largest_contour[:, :, 1].argmin()][0])\n",
    "    bottommost_point = tuple(largest_contour[largest_contour[:, :, 1].argmax()][0])\n",
    "\n",
    "    # Add extra pixels for cropping margin and create a new cropped image\n",
    "    ADD_PIXELS = 5\n",
    "    cropped_img = input_img[topmost_point[1]-ADD_PIXELS:bottommost_point[1]+ADD_PIXELS,\n",
    "                            leftmost_point[0]-ADD_PIXELS:rightmost_point[0]+ADD_PIXELS].copy()\n",
    "\n",
    "    return cropped_img\n"
   ]
  },
  {
   "cell_type": "code",
   "execution_count": null,
   "metadata": {},
   "outputs": [],
   "source": [
    "def preprocess_and_save_images(input_dir, output_dir):\n",
    "    # Define the desired image size for resizing\n",
    "    IMG_SIZE = 256\n",
    "\n",
    "    # Get a list of directories inside the input directory\n",
    "    image_directories = os.listdir(input_dir)\n",
    "\n",
    "    # Loop through each directory in the input directory\n",
    "    for directory in image_directories:\n",
    "        # Create the full path to the current input directory\n",
    "        input_path = os.path.join(input_dir, directory)\n",
    "        \n",
    "        # Create the full path to the corresponding output directory\n",
    "        output_path = os.path.join(output_dir, directory)\n",
    "\n",
    "        # Create the output directory if it doesn't exist\n",
    "        if not os.path.exists(output_path):\n",
    "            os.makedirs(output_path)\n",
    "\n",
    "        # Get a list of image files inside the current input directory\n",
    "        image_files = os.listdir(input_path)\n",
    "\n",
    "        # Loop through each image file in the current input directory\n",
    "        for image_file in image_files:\n",
    "            # Read the image using OpenCV from the current image file\n",
    "            image = cv2.imread(os.path.join(input_path, image_file))\n",
    "            \n",
    "            # Check if the image was read successfully; if not, skip to the next image\n",
    "            if image is None:\n",
    "                continue\n",
    "\n",
    "            # Crop the image using the defined `crop_img()` function\n",
    "            cropped_image = crop_img(image)\n",
    "\n",
    "            # Resize the cropped image to the desired size\n",
    "            resized_image = cv2.resize(cropped_image, (IMG_SIZE, IMG_SIZE))\n",
    "\n",
    "            # Save the resized image to the output directory with the same file name\n",
    "            cv2.imwrite(os.path.join(output_path, image_file), resized_image)"
   ]
  },
  {
   "cell_type": "code",
   "execution_count": null,
   "metadata": {},
   "outputs": [],
   "source": [
    "if __name__ == \"__main__\":\n",
    "    training_input = \"brain_tumour/Training\"\n",
    "    testing_input = \"brain_tumour/Testing\"\n",
    "    training_output = \"brain_tumour/cropped/Training\"\n",
    "    testing_output = \"brain_tumour/cropped/Testing\"\n",
    "\n",
    "    preprocess_and_save_images(training_input, training_output)\n",
    "    preprocess_and_save_images(testing_input, testing_output)"
   ]
  }
 ],
 "metadata": {
  "kernelspec": {
   "display_name": "base",
   "language": "python",
   "name": "python3"
  },
  "language_info": {
   "codemirror_mode": {
    "name": "ipython",
    "version": 3
   },
   "file_extension": ".py",
   "mimetype": "text/x-python",
   "name": "python",
   "nbconvert_exporter": "python",
   "pygments_lexer": "ipython3",
   "version": "3.10.9"
  },
  "orig_nbformat": 4
 },
 "nbformat": 4,
 "nbformat_minor": 2
}
